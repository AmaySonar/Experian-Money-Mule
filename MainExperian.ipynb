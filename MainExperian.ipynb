{
 "cells": [
  {
   "cell_type": "code",
   "execution_count": 3,
   "id": "e3734302-85f0-4297-8743-bdad21670069",
   "metadata": {},
   "outputs": [],
   "source": [
    "# importing all the libraries \n",
    "import pandas as pd\n",
    "import numpy as np \n",
    "import matplotlib.pyplot as plt\n",
    "import seaborn as sns\n",
    "from datetime import datetime "
   ]
  },
  {
   "cell_type": "code",
   "execution_count": 2,
   "id": "4012520d-3b54-4402-8fc5-b9fa5cb7ab34",
   "metadata": {},
   "outputs": [],
   "source": [
    "%pip install seaborn "
   ]
  },
  {
   "cell_type": "code",
   "execution_count": 4,
   "id": "e682da83-df30-4067-a81e-1a8860ef5419",
   "metadata": {},
   "outputs": [],
   "source": [
    "# Dataframes\n",
    "AccountData = pd.read_csv('Step Up - Experian Account Data.csv')\n",
    "AccountHolder = pd.read_csv('Step Up - Experian Acount Holder Data.csv')\n",
    "MuleFlag = pd.read_csv('Mule Flag.csv')"
   ]
  },
  {
   "cell_type": "raw",
   "id": "a614fc9e-7f13-4c1d-bf31-2ca81179cf10",
   "metadata": {},
   "source": [
    "Summarising the Data "
   ]
  },
  {
   "cell_type": "code",
   "execution_count": 5,
   "id": "17b73e5a-ccc1-4e4e-9ef7-db3e141596a2",
   "metadata": {},
   "outputs": [
    {
     "name": "stdout",
     "output_type": "stream",
     "text": [
      "<class 'pandas.core.frame.DataFrame'>\n",
      "RangeIndex: 1000 entries, 0 to 999\n",
      "Data columns (total 10 columns):\n",
      " #   Column              Non-Null Count  Dtype  \n",
      "---  ------              --------------  -----  \n",
      " 0   Identifier          1000 non-null   object \n",
      " 1   AccountLength       948 non-null    float64\n",
      " 2   AverageBalance      948 non-null    float64\n",
      " 3   NumTransactions     948 non-null    float64\n",
      " 4   NumDeposits         948 non-null    float64\n",
      " 5   NumWithdrawals      948 non-null    float64\n",
      " 6   NumTransfers        948 non-null    float64\n",
      " 7   NumLoans            948 non-null    float64\n",
      " 8   NumCreditCards      949 non-null    float64\n",
      " 9   NumSavingsAccounts  948 non-null    float64\n",
      "dtypes: float64(9), object(1)\n",
      "memory usage: 74.3+ KB\n"
     ]
    }
   ],
   "source": [
    "AccountData.info()"
   ]
  },
  {
   "cell_type": "code",
   "execution_count": 6,
   "id": "90f24a58-add8-4cfd-9cee-31f182368615",
   "metadata": {},
   "outputs": [
    {
     "name": "stdout",
     "output_type": "stream",
     "text": [
      "<class 'pandas.core.frame.DataFrame'>\n",
      "RangeIndex: 1045 entries, 0 to 1044\n",
      "Data columns (total 13 columns):\n",
      " #   Column                     Non-Null Count  Dtype  \n",
      "---  ------                     --------------  -----  \n",
      " 0   Identifier                 1045 non-null   object \n",
      " 1   DateOfBirth                991 non-null    object \n",
      " 2   Gender                     992 non-null    object \n",
      " 3   Income                     989 non-null    float64\n",
      " 4   CreditScore                987 non-null    float64\n",
      " 5   LoanAmount                 990 non-null    float64\n",
      " 6   EmploymentStatus           987 non-null    object \n",
      " 7   MaritalStatus              989 non-null    object \n",
      " 8   OccupancyStatus            990 non-null    object \n",
      " 9   NumDependents              990 non-null    float64\n",
      " 10  SocialMediaUsageHours      985 non-null    float64\n",
      " 11  ShoppingFrequencyPerMonth  990 non-null    float64\n",
      " 12  HealthInsuranceStatus      989 non-null    object \n",
      "dtypes: float64(6), object(7)\n",
      "memory usage: 77.6+ KB\n"
     ]
    }
   ],
   "source": [
    "AccountHolder.info()"
   ]
  },
  {
   "cell_type": "code",
   "execution_count": 7,
   "id": "d1a55ca5-c884-4d59-bbac-75e632a9e8a0",
   "metadata": {},
   "outputs": [
    {
     "name": "stdout",
     "output_type": "stream",
     "text": [
      "<class 'pandas.core.frame.DataFrame'>\n",
      "RangeIndex: 1000 entries, 0 to 999\n",
      "Data columns (total 2 columns):\n",
      " #   Column       Non-Null Count  Dtype  \n",
      "---  ------       --------------  -----  \n",
      " 0   Identifier   1000 non-null   object \n",
      " 1   MuleAccount  948 non-null    float64\n",
      "dtypes: float64(1), object(1)\n",
      "memory usage: 11.8+ KB\n"
     ]
    }
   ],
   "source": [
    "MuleFlag.info()"
   ]
  },
  {
   "cell_type": "code",
   "execution_count": 8,
   "id": "eb24dea4-b539-490f-ba53-3872b7349e51",
   "metadata": {},
   "outputs": [
    {
     "data": {
      "text/plain": [
       "Identifier             0\n",
       "AccountLength         52\n",
       "AverageBalance        52\n",
       "NumTransactions       52\n",
       "NumDeposits           52\n",
       "NumWithdrawals        52\n",
       "NumTransfers          52\n",
       "NumLoans              52\n",
       "NumCreditCards        51\n",
       "NumSavingsAccounts    52\n",
       "dtype: int64"
      ]
     },
     "execution_count": 8,
     "metadata": {},
     "output_type": "execute_result"
    }
   ],
   "source": [
    "AccountData.isnull().sum()"
   ]
  },
  {
   "cell_type": "code",
   "execution_count": 11,
   "id": "fae5e812-6676-4c59-a58a-389fd65db45c",
   "metadata": {},
   "outputs": [
    {
     "data": {
      "text/plain": [
       "Identifier                    0\n",
       "DateOfBirth                  54\n",
       "Gender                       53\n",
       "Income                       56\n",
       "CreditScore                  58\n",
       "LoanAmount                   55\n",
       "EmploymentStatus             58\n",
       "MaritalStatus                56\n",
       "OccupancyStatus              55\n",
       "NumDependents                55\n",
       "SocialMediaUsageHours        60\n",
       "ShoppingFrequencyPerMonth    55\n",
       "HealthInsuranceStatus        56\n",
       "dtype: int64"
      ]
     },
     "execution_count": 11,
     "metadata": {},
     "output_type": "execute_result"
    }
   ],
   "source": [
    "AccountHolder.isnull().sum()"
   ]
  },
  {
   "cell_type": "code",
   "execution_count": 12,
   "id": "2a283996-67aa-4e7e-9e2d-aab532ff887f",
   "metadata": {},
   "outputs": [
    {
     "data": {
      "text/plain": [
       "Identifier      0\n",
       "MuleAccount    52\n",
       "dtype: int64"
      ]
     },
     "execution_count": 12,
     "metadata": {},
     "output_type": "execute_result"
    }
   ],
   "source": [
    "MuleFlag.isnull().sum()"
   ]
  },
  {
   "cell_type": "code",
   "execution_count": 13,
   "id": "60b2ba8e-54d1-485f-b24c-0da86041b3e9",
   "metadata": {},
   "outputs": [],
   "source": [
    "# There are misssing values / NaN / Null  in the Dataset : "
   ]
  },
  {
   "cell_type": "code",
   "execution_count": 14,
   "id": "80c20f5f-951c-4967-bf04-3d08bb46cf94",
   "metadata": {},
   "outputs": [
    {
     "name": "stdout",
     "output_type": "stream",
     "text": [
      "Null Values in Acccount Holder is 671, Account Dataset is 467 and Mule Flag dataset 52 \n"
     ]
    }
   ],
   "source": [
    "accData_null = AccountData.isnull().sum().sum()\n",
    "accHolder_null = AccountHolder.isnull().sum().sum()\n",
    "muleFlag_null = MuleFlag.isnull().sum().sum()\n",
    "print(f\"Null Values in Acccount Holder is {accHolder_null}, Account Dataset is {accData_null} and Mule Flag dataset {muleFlag_null} \")"
   ]
  },
  {
   "cell_type": "code",
   "execution_count": 15,
   "id": "43f9bbe8-4b25-4f57-aa1c-1a82daadb9af",
   "metadata": {},
   "outputs": [
    {
     "name": "stdout",
     "output_type": "stream",
     "text": [
      "--- DataFrame 1 ---\n",
      "Rows: 1000\n",
      "Duplicates: 0\n",
      "\n",
      "--- DataFrame 2 ---\n",
      "Rows: 1045\n",
      "Duplicates: 45\n",
      "\n",
      "--- DataFrame 3 ---\n",
      "Rows: 1000\n",
      "Duplicates: 0\n",
      "\n"
     ]
    }
   ],
   "source": [
    "# There are Duplicate values in the dataset - Handeling duplicate values : \n",
    "# Checking the length and duplicate values of the files \n",
    "for i, data in enumerate([MuleFlag, AccountHolder, AccountData], 1):\n",
    "    print(f\"--- DataFrame {i} ---\")\n",
    "    print(f\"Rows: {len(data)}\")\n",
    "    print(f\"Duplicates: {data.duplicated().sum()}\")\n",
    "    print()"
   ]
  },
  {
   "cell_type": "raw",
   "id": "d8e5f76f-3500-4311-ab05-64c121dd5282",
   "metadata": {},
   "source": [
    "Upon Analysis - To Summarize \n",
    "We identified according to the dataset - \n",
    "Account Data Dataset\n",
    "has 467 Null Values | 1000 Rows | and 0 Duplicate Values \n",
    "Account Holder Dataset\n",
    "has 671 Null Values | 1045 Rows | and 45 Duplicate Values * \n",
    "MuleFlag Datset \n",
    "has 52 Null Values | 1000 Rows | and 0 Duplicate Values \n"
   ]
  },
  {
   "cell_type": "raw",
   "id": "5b88bf9f-8497-4957-a2f5-974a7a85bf65",
   "metadata": {},
   "source": [
    "Account Data Set "
   ]
  },
  {
   "cell_type": "code",
   "execution_count": 17,
   "id": "a829336f-3661-4dd1-8ba0-ecd03a5395cf",
   "metadata": {},
   "outputs": [
    {
     "name": "stdout",
     "output_type": "stream",
     "text": [
      "\n",
      "Account Data Columns: \n",
      "\n",
      "Identifier\n",
      "AccountLength\n",
      "AverageBalance\n",
      "NumTransactions\n",
      "NumDeposits\n",
      "NumWithdrawals\n",
      "NumTransfers\n",
      "NumLoans\n",
      "NumCreditCards\n",
      "NumSavingsAccounts\n",
      "\n",
      "Account Data Length: 1000 records\n",
      "\n",
      "Account Data Duplicates: 0\n"
     ]
    }
   ],
   "source": [
    "\n",
    "# Generate a list of columns\n",
    "ad_cols = list(AccountData.columns)\n",
    "\n",
    "# print the list of columns to the console (with some each column on a seperate line for readability)\n",
    "print(f\"\\nAccount Data Columns: \\n\\n{chr(10).join(ad_cols)}\")\n",
    "\n",
    "# Print the length of the data\n",
    "print(f\"\\nAccount Data Length: {len(AccountData)} records\")\n",
    "\n",
    "# Initialize an empty dictionary to store results\n",
    "ad_column_stats = {}\n",
    "\n",
    "# Loop through each column in the DataFrame\n",
    "for col in ad_cols:\n",
    "    # Calculate value counts\n",
    "    value_counts = AccountData[col].value_counts(dropna = False)\n",
    "    \n",
    "    # Calculate percentage of blank (NaN or empty) values\n",
    "    total_rows = len(AccountData)\n",
    "    blank_count = AccountData[col].isna().sum()  # Count NaN values\n",
    "    blank_percentage = (blank_count / total_rows) * 100 if total_rows > 0 else 0\n",
    "    \n",
    "    # Store the results in the dictionary\n",
    "    ad_column_stats[col] = {\n",
    "        \"value_counts\": value_counts,\n",
    "        \"%_blank\": blank_percentage\n",
    "    }\n",
    "    \n",
    "# Check for dupes\n",
    "ad_duplicates = AccountData[AccountData.duplicated()]\n",
    "print(f\"\\nAccount Data Duplicates: {len(ad_duplicates)}\")"
   ]
  },
  {
   "cell_type": "raw",
   "id": "5a6727e0-cd9f-4031-b871-46cbf8402c3d",
   "metadata": {},
   "source": [
    "Account Hodler Dataset "
   ]
  },
  {
   "cell_type": "code",
   "execution_count": 19,
   "id": "922603a5-6fa7-4415-a7c9-b605c2e69e7e",
   "metadata": {},
   "outputs": [
    {
     "name": "stdout",
     "output_type": "stream",
     "text": [
      "\n",
      "Account Holder Data Columns: \n",
      "\n",
      "Identifier\n",
      "DateOfBirth\n",
      "Gender\n",
      "Income\n",
      "CreditScore\n",
      "LoanAmount\n",
      "EmploymentStatus\n",
      "MaritalStatus\n",
      "OccupancyStatus\n",
      "NumDependents\n",
      "SocialMediaUsageHours\n",
      "ShoppingFrequencyPerMonth\n",
      "HealthInsuranceStatus\n",
      "\n",
      "Account Holder Data Length: 1045 records\n",
      "\n",
      "Account Holder Data Duplicates: 45\n"
     ]
    }
   ],
   "source": [
    "# Generate a list of columns\n",
    "ah_cols = list(AccountHolder.columns)\n",
    "\n",
    "# print the list of columns to the console (with some each column on a seperate line for readability)\n",
    "print(f\"\\nAccount Holder Data Columns: \\n\\n{chr(10).join(ah_cols)}\")\n",
    "\n",
    "# Print the length of the data\n",
    "print(f\"\\nAccount Holder Data Length: {len(AccountHolder)} records\")\n",
    "\n",
    "# Initialize an empty dictionary to store results\n",
    "ah_column_stats = {}\n",
    "\n",
    "# Loop through each column in the DataFrame\n",
    "for col in ah_cols:\n",
    "    # Calculate value counts\n",
    "    value_counts = AccountHolder[col].value_counts(dropna = False)\n",
    "    \n",
    "    # Calculate percentage of blank (NaN or empty) values\n",
    "    total_rows = len(AccountHolder)\n",
    "    blank_count = AccountHolder[col].isna().sum()  # Count NaN values\n",
    "    blank_percentage = (blank_count / total_rows) * 100 if total_rows > 0 else 0\n",
    "    \n",
    "    # Store the results in the dictionary\n",
    "    ah_column_stats[col] = {\n",
    "        \"value_counts\": value_counts,\n",
    "        \"%_blank\": blank_percentage\n",
    "    }\n",
    "    # Check for dupes\n",
    "ah_duplicates = AccountHolder[AccountHolder.duplicated()]\n",
    "print(f\"\\nAccount Holder Data Duplicates: {len(ah_duplicates)}\")"
   ]
  },
  {
   "cell_type": "raw",
   "id": "b24e81fb-e571-4076-8175-7354abf41ea6",
   "metadata": {},
   "source": [
    "Mule Flag Dataset "
   ]
  },
  {
   "cell_type": "code",
   "execution_count": 22,
   "id": "ba0bfc73-dd5c-426e-8ab2-4821a438c5cf",
   "metadata": {},
   "outputs": [
    {
     "name": "stdout",
     "output_type": "stream",
     "text": [
      "\n",
      "Mule Flag Columns: \n",
      "\n",
      "Identifier\n",
      "MuleAccount\n",
      "\n",
      "Mule Flag Length: 1000 records\n",
      "\n",
      "Mule Flag Duplicates: 0\n"
     ]
    }
   ],
   "source": [
    "# Generate a list of columns\n",
    "mf_cols = list(MuleFlag.columns)\n",
    "\n",
    "# Print the list of columns to the console (with some each column on a seperate line for readability)\n",
    "print(f\"\\nMule Flag Columns: \\n\\n{chr(10).join(mf_cols)}\")\n",
    "\n",
    "# Print the length of the data\n",
    "print(f\"\\nMule Flag Length: {len(MuleFlag)} records\")\n",
    "\n",
    "# Initialize an empty dictionary to store results\n",
    "mf_column_stats = {}\n",
    "\n",
    "# Loop through each column in the DataFrame\n",
    "for col in mf_cols:\n",
    "    # Calculate value counts\n",
    "    value_counts = MuleFlag[col].value_counts(dropna = False)\n",
    "    \n",
    "    # Calculate percentage of blank (NaN or empty) values\n",
    "    total_rows = len(MuleFlag)\n",
    "    blank_count = MuleFlag[col].isna().sum()  # Count NaN values\n",
    "    blank_percentage = (blank_count / total_rows) * 100 if total_rows > 0 else 0\n",
    "    \n",
    "    # Store the results in the dictionary\n",
    "    mf_column_stats[col] = {\n",
    "        \"value_counts\": value_counts,\n",
    "        \"%_blank\": blank_percentage\n",
    "    }\n",
    "    \n",
    "# Check for dupes\n",
    "mf_duplicates = MuleFlag[MuleFlag.duplicated()]\n",
    "print(f\"\\nMule Flag Duplicates: {len(mf_duplicates)}\")\n"
   ]
  },
  {
   "cell_type": "code",
   "execution_count": 23,
   "id": "c6e97351-f62d-4d8c-a760-e78b20a8569e",
   "metadata": {},
   "outputs": [],
   "source": [
    "# Compare the ID values across the three files\n",
    "ids1 = set(MuleFlag['Identifier'])\n",
    "ids2 = set(AccountHolder['Identifier'])\n",
    "ids3 = set(AccountData['Identifier'])"
   ]
  },
  {
   "cell_type": "code",
   "execution_count": 24,
   "id": "23a60f9c-646d-4d02-b218-378b5846289e",
   "metadata": {},
   "outputs": [
    {
     "name": "stdout",
     "output_type": "stream",
     "text": [
      "Common IDs in all 3 files: 1000\n"
     ]
    }
   ],
   "source": [
    "# Finding common id among all the three df's \n",
    "common_ids = ids1 & ids2 & ids3\n",
    "print(f\"Common IDs in all 3 files: {len(common_ids)}\")"
   ]
  },
  {
   "cell_type": "code",
   "execution_count": 27,
   "id": "272d257d-b1b3-4978-95ee-0c78215eb7f7",
   "metadata": {},
   "outputs": [
    {
     "name": "stdout",
     "output_type": "stream",
     "text": [
      "0\n",
      "45\n",
      "0\n"
     ]
    }
   ],
   "source": [
    "# Check for Duplicate Identifier Values\n",
    "print(MuleFlag['Identifier'].duplicated().sum())\n",
    "print(AccountHolder['Identifier'].duplicated().sum())\n",
    "print(AccountData['Identifier'].duplicated().sum())"
   ]
  },
  {
   "cell_type": "code",
   "execution_count": 26,
   "id": "b48df0e4-ad7b-4f4d-a0aa-1616bcecacab",
   "metadata": {},
   "outputs": [],
   "source": [
    "# There are 1000 common ID's among the three dataframes \n",
    "# However there are 45 duplicate records in AccountHolder Dataset that needs to be droped. "
   ]
  },
  {
   "cell_type": "raw",
   "id": "9da9f039-ef63-4d4c-bc6d-679dc77576d5",
   "metadata": {},
   "source": [
    "# Data Cleaning Task\n",
    "1. Cleaning the Duplicated Values \n",
    "2. Handling the Missing values \n",
    "3. Complete any other outstanding tasks from the audit\n",
    "4. Merging the 3 Dataframes "
   ]
  },
  {
   "cell_type": "code",
   "execution_count": 28,
   "id": "2af5e520-0a8d-4cf1-87cd-43fd3395fe45",
   "metadata": {},
   "outputs": [],
   "source": [
    "# Dropping the 45 Duplicated values from AccountHolder Dataframe \n",
    "AccountHolder.drop_duplicates(inplace=True)"
   ]
  },
  {
   "cell_type": "code",
   "execution_count": 29,
   "id": "0376d6db-8189-4bbd-a100-febedcbab5d6",
   "metadata": {},
   "outputs": [
    {
     "name": "stdout",
     "output_type": "stream",
     "text": [
      "0\n"
     ]
    }
   ],
   "source": [
    "# Verifying the Dataset for duplicate Values \n",
    "print(AccountHolder['Identifier'].duplicated().sum())"
   ]
  },
  {
   "cell_type": "raw",
   "id": "9179f09d-6d91-40f6-8ffd-b43a0abd7a42",
   "metadata": {},
   "source": [
    "Handling the missing values \n",
    "In Account Dataset the column datatypes are mostly numerical. Hence missing values are replaced by -1\n",
    "\n",
    "In Account Holder Dataset the column has mixed values and are replaced with 'Missing' values \n",
    "\n",
    "In the MuleFlag Dataset, MuleFlag is an important parameter for our analysis and we have considered it as 0 because it is our outcome data and the quality of the analysis depends on it. (Muleflag=0),When NAN, However in reality we would speak to client before considering this option and consider what it should be. \n",
    " \n"
   ]
  },
  {
   "cell_type": "code",
   "execution_count": 32,
   "id": "95371eff-be26-47c1-b0d0-54076abd930d",
   "metadata": {},
   "outputs": [],
   "source": [
    "# Handling the Missing Values Account Data\n",
    "ad_missing_values = {\n",
    "    \"AccountLength\" : -1,\n",
    "    \"AverageBalance\" : -1,\n",
    "    \"NumTransactions\" : -1,\n",
    "    \"NumDeposits\" : -1,\n",
    "    \"NumWithdrawals\" : -1,\n",
    "    \"NumTransfers\" : -1,\n",
    "    \"NumLoans\" : -1,\n",
    "    \"NumCreditCards\" :-1,\n",
    "    \"NumSavingsAccounts\" :-1,\n",
    "    }\n",
    "AccountData = AccountData.fillna(value = ad_missing_values)"
   ]
  },
  {
   "cell_type": "code",
   "execution_count": 33,
   "id": "33cce471-4dcc-47ba-99d8-0e97fd4b23ce",
   "metadata": {},
   "outputs": [],
   "source": [
    "# Handling Missing Values Account Holder\n",
    "ah_missing_values = { \n",
    "    'DateOfBirth': 'Missing',\n",
    "    'Gender' : 'Missing',\n",
    "    'Income': -1,\n",
    "    'CreditScore': -1,\n",
    "    'LoanAmount': -1,\n",
    "    'EmploymentStatus': 'Missing',\n",
    "    'MaritalStatus': 'Missing',\n",
    "    'OccupancyStatus': 'Missing',\n",
    "    'NumDependents': -1,\n",
    "    'SocialMediaUsageHours': -1,\n",
    "    'ShoppingFrequencyPerMonth': -1,\n",
    "    'HealthInsuranceStatus': 'Missing'\n",
    "    }\n",
    "\n",
    "AccountHolder = AccountHolder.fillna(value = ah_missing_values)"
   ]
  },
  {
   "cell_type": "code",
   "execution_count": 35,
   "id": "4e00b1a7-09c3-469e-8484-53c65e133671",
   "metadata": {},
   "outputs": [],
   "source": [
    "# Handling Missing Values MuleFlag\n",
    "MuleFlag = MuleFlag.fillna(0)"
   ]
  },
  {
   "cell_type": "code",
   "execution_count": 41,
   "id": "10236991-74ac-4ebd-806d-85913e333d49",
   "metadata": {},
   "outputs": [
    {
     "data": {
      "text/plain": [
       "Identifier            0\n",
       "AccountLength         0\n",
       "AverageBalance        0\n",
       "NumTransactions       0\n",
       "NumDeposits           0\n",
       "NumWithdrawals        0\n",
       "NumTransfers          0\n",
       "NumLoans              0\n",
       "NumCreditCards        0\n",
       "NumSavingsAccounts    0\n",
       "dtype: int64"
      ]
     },
     "execution_count": 41,
     "metadata": {},
     "output_type": "execute_result"
    }
   ],
   "source": [
    "# Verifying the Handling Missing Values \n",
    "AccountData.isnull().sum()"
   ]
  },
  {
   "cell_type": "code",
   "execution_count": 42,
   "id": "14f2db69-c972-4f24-b409-53ae2a2495a2",
   "metadata": {},
   "outputs": [
    {
     "data": {
      "text/plain": [
       "Identifier                   0\n",
       "DateOfBirth                  0\n",
       "Gender                       0\n",
       "Income                       0\n",
       "CreditScore                  0\n",
       "LoanAmount                   0\n",
       "EmploymentStatus             0\n",
       "MaritalStatus                0\n",
       "OccupancyStatus              0\n",
       "NumDependents                0\n",
       "SocialMediaUsageHours        0\n",
       "ShoppingFrequencyPerMonth    0\n",
       "HealthInsuranceStatus        0\n",
       "dtype: int64"
      ]
     },
     "execution_count": 42,
     "metadata": {},
     "output_type": "execute_result"
    }
   ],
   "source": [
    "# Verifying the Handling Missing Values \n",
    "AccountHolder.isnull().sum()"
   ]
  },
  {
   "cell_type": "code",
   "execution_count": 43,
   "id": "887776f5-9a3b-4b88-bcae-52f39254fa36",
   "metadata": {},
   "outputs": [],
   "source": [
    "# Merging the DataFrames\n",
    "# Merging MuleFlag and AccountHolder\n",
    "merged_df = pd.merge(MuleFlag, AccountHolder, on='Identifier', how='outer')\n",
    "\n",
    "# Merging the result with AccountData\n",
    "final_df = pd.merge(merged_df, AccountData, on='Identifier', how='outer')"
   ]
  },
  {
   "cell_type": "code",
   "execution_count": 44,
   "id": "4650a1d0-986a-4bee-8d8f-b050121373ae",
   "metadata": {},
   "outputs": [
    {
     "name": "stdout",
     "output_type": "stream",
     "text": [
      "<class 'pandas.core.frame.DataFrame'>\n",
      "RangeIndex: 1000 entries, 0 to 999\n",
      "Data columns (total 23 columns):\n",
      " #   Column                     Non-Null Count  Dtype  \n",
      "---  ------                     --------------  -----  \n",
      " 0   Identifier                 1000 non-null   object \n",
      " 1   MuleAccount                1000 non-null   float64\n",
      " 2   DateOfBirth                1000 non-null   object \n",
      " 3   Gender                     1000 non-null   object \n",
      " 4   Income                     1000 non-null   float64\n",
      " 5   CreditScore                1000 non-null   float64\n",
      " 6   LoanAmount                 1000 non-null   float64\n",
      " 7   EmploymentStatus           1000 non-null   object \n",
      " 8   MaritalStatus              1000 non-null   object \n",
      " 9   OccupancyStatus            1000 non-null   object \n",
      " 10  NumDependents              1000 non-null   float64\n",
      " 11  SocialMediaUsageHours      1000 non-null   float64\n",
      " 12  ShoppingFrequencyPerMonth  1000 non-null   float64\n",
      " 13  HealthInsuranceStatus      1000 non-null   object \n",
      " 14  AccountLength              1000 non-null   float64\n",
      " 15  AverageBalance             1000 non-null   float64\n",
      " 16  NumTransactions            1000 non-null   float64\n",
      " 17  NumDeposits                1000 non-null   float64\n",
      " 18  NumWithdrawals             1000 non-null   float64\n",
      " 19  NumTransfers               1000 non-null   float64\n",
      " 20  NumLoans                   1000 non-null   float64\n",
      " 21  NumCreditCards             1000 non-null   float64\n",
      " 22  NumSavingsAccounts         1000 non-null   float64\n",
      "dtypes: float64(16), object(7)\n",
      "memory usage: 152.4+ KB\n"
     ]
    }
   ],
   "source": [
    "final_df.info()"
   ]
  },
  {
   "cell_type": "code",
   "execution_count": 46,
   "id": "9e298b25-59ab-4b22-8284-7abf71922744",
   "metadata": {},
   "outputs": [],
   "source": [
    "# Datacreation \n",
    "# Backup Dataframe\n",
    "backup_finaldf = final_df.copy()\n",
    "# Convert DateOfBirth column to datetime\n",
    "today = datetime.today()\n",
    "final_df['DateOfBirth'] = pd.to_datetime(final_df['DateOfBirth'], format='%d/%m/%Y', errors='coerce') \n",
    "final_df['Age'] = final_df['DateOfBirth'].apply(lambda dob: today.year - dob.year - ((today.month, today.day) < (dob.month, dob.day)))"
   ]
  },
  {
   "cell_type": "code",
   "execution_count": 47,
   "id": "95bad5a7-d97f-48dc-b26a-dfd2082acc8c",
   "metadata": {},
   "outputs": [],
   "source": [
    "# Create some bins for age to make it categorical (e.g. 18 - 24, 25 - 35, 35 - 45 etc.)\n",
    "# Define age bins and labels\n",
    "bins = [0, 17, 24, 35, 45, 60, 100]  # Define bin edges\n",
    "labels = ['0-17', '18-24', '25-35', '36-45', '46-60', '60+']  # Define bin labels"
   ]
  },
  {
   "cell_type": "code",
   "execution_count": 48,
   "id": "643b6b29-7571-4759-9b2d-6227455d3656",
   "metadata": {},
   "outputs": [],
   "source": [
    "# Create age categories\n",
    "final_df['AgeGroup'] = pd.cut(final_df['Age'], bins=bins, labels=labels, right=False)"
   ]
  },
  {
   "cell_type": "code",
   "execution_count": 49,
   "id": "21476a6c-625b-432d-8d0b-c2064cb425af",
   "metadata": {},
   "outputs": [],
   "source": [
    "# Define income bins and labels\n",
    "bins = [0, 10000, 20000, 30000, 40000, 60000, 80000, 100000]  # Define bin edges\n",
    "labels = ['0-10k', '10k-20k', '20k-30k', '30k-40k', '40k-60k', '60k-80k','80k+']  # Define bin labels\n",
    "\n",
    "# Create income categories\n",
    "final_df['IncomeGroup'] = pd.cut(final_df['Income'], bins=bins, labels=labels, right=False)\n"
   ]
  },
  {
   "cell_type": "code",
   "execution_count": 50,
   "id": "7ef46f54-c386-4ad7-983e-ba605ef14a0a",
   "metadata": {},
   "outputs": [
    {
     "data": {
      "text/html": [
       "<div>\n",
       "<style scoped>\n",
       "    .dataframe tbody tr th:only-of-type {\n",
       "        vertical-align: middle;\n",
       "    }\n",
       "\n",
       "    .dataframe tbody tr th {\n",
       "        vertical-align: top;\n",
       "    }\n",
       "\n",
       "    .dataframe thead th {\n",
       "        text-align: right;\n",
       "    }\n",
       "</style>\n",
       "<table border=\"1\" class=\"dataframe\">\n",
       "  <thead>\n",
       "    <tr style=\"text-align: right;\">\n",
       "      <th></th>\n",
       "      <th>Identifier</th>\n",
       "      <th>MuleAccount</th>\n",
       "      <th>DateOfBirth</th>\n",
       "      <th>Gender</th>\n",
       "      <th>Income</th>\n",
       "      <th>CreditScore</th>\n",
       "      <th>LoanAmount</th>\n",
       "      <th>EmploymentStatus</th>\n",
       "      <th>MaritalStatus</th>\n",
       "      <th>OccupancyStatus</th>\n",
       "      <th>...</th>\n",
       "      <th>NumTransactions</th>\n",
       "      <th>NumDeposits</th>\n",
       "      <th>NumWithdrawals</th>\n",
       "      <th>NumTransfers</th>\n",
       "      <th>NumLoans</th>\n",
       "      <th>NumCreditCards</th>\n",
       "      <th>NumSavingsAccounts</th>\n",
       "      <th>Age</th>\n",
       "      <th>AgeGroup</th>\n",
       "      <th>IncomeGroup</th>\n",
       "    </tr>\n",
       "  </thead>\n",
       "  <tbody>\n",
       "    <tr>\n",
       "      <th>0</th>\n",
       "      <td>ID_0001</td>\n",
       "      <td>0.0</td>\n",
       "      <td>1964-01-06</td>\n",
       "      <td>Female</td>\n",
       "      <td>96534.0</td>\n",
       "      <td>-1.0</td>\n",
       "      <td>44116.0</td>\n",
       "      <td>Unemployed</td>\n",
       "      <td>Single</td>\n",
       "      <td>Owner</td>\n",
       "      <td>...</td>\n",
       "      <td>305.0</td>\n",
       "      <td>230.0</td>\n",
       "      <td>288.0</td>\n",
       "      <td>39.0</td>\n",
       "      <td>7.0</td>\n",
       "      <td>2.0</td>\n",
       "      <td>0.0</td>\n",
       "      <td>61.0</td>\n",
       "      <td>60+</td>\n",
       "      <td>80k+</td>\n",
       "    </tr>\n",
       "    <tr>\n",
       "      <th>1</th>\n",
       "      <td>ID_0002</td>\n",
       "      <td>0.0</td>\n",
       "      <td>2004-11-26</td>\n",
       "      <td>Male</td>\n",
       "      <td>75106.0</td>\n",
       "      <td>390.0</td>\n",
       "      <td>9782.0</td>\n",
       "      <td>Unemployed</td>\n",
       "      <td>Missing</td>\n",
       "      <td>Owner</td>\n",
       "      <td>...</td>\n",
       "      <td>331.0</td>\n",
       "      <td>203.0</td>\n",
       "      <td>147.0</td>\n",
       "      <td>5.0</td>\n",
       "      <td>-1.0</td>\n",
       "      <td>4.0</td>\n",
       "      <td>2.0</td>\n",
       "      <td>20.0</td>\n",
       "      <td>18-24</td>\n",
       "      <td>60k-80k</td>\n",
       "    </tr>\n",
       "    <tr>\n",
       "      <th>2</th>\n",
       "      <td>ID_0003</td>\n",
       "      <td>0.0</td>\n",
       "      <td>1992-07-02</td>\n",
       "      <td>Male</td>\n",
       "      <td>50678.0</td>\n",
       "      <td>779.0</td>\n",
       "      <td>38650.0</td>\n",
       "      <td>Student</td>\n",
       "      <td>Divorced</td>\n",
       "      <td>Owner</td>\n",
       "      <td>...</td>\n",
       "      <td>109.0</td>\n",
       "      <td>43.0</td>\n",
       "      <td>227.0</td>\n",
       "      <td>37.0</td>\n",
       "      <td>4.0</td>\n",
       "      <td>1.0</td>\n",
       "      <td>1.0</td>\n",
       "      <td>32.0</td>\n",
       "      <td>25-35</td>\n",
       "      <td>40k-60k</td>\n",
       "    </tr>\n",
       "    <tr>\n",
       "      <th>3</th>\n",
       "      <td>ID_0004</td>\n",
       "      <td>0.0</td>\n",
       "      <td>1974-07-03</td>\n",
       "      <td>Male</td>\n",
       "      <td>96218.0</td>\n",
       "      <td>757.0</td>\n",
       "      <td>22366.0</td>\n",
       "      <td>Student</td>\n",
       "      <td>Single</td>\n",
       "      <td>Owner</td>\n",
       "      <td>...</td>\n",
       "      <td>87.0</td>\n",
       "      <td>149.0</td>\n",
       "      <td>236.0</td>\n",
       "      <td>168.0</td>\n",
       "      <td>1.0</td>\n",
       "      <td>2.0</td>\n",
       "      <td>1.0</td>\n",
       "      <td>50.0</td>\n",
       "      <td>46-60</td>\n",
       "      <td>80k+</td>\n",
       "    </tr>\n",
       "    <tr>\n",
       "      <th>4</th>\n",
       "      <td>ID_0005</td>\n",
       "      <td>0.0</td>\n",
       "      <td>1976-05-13</td>\n",
       "      <td>Male</td>\n",
       "      <td>83230.0</td>\n",
       "      <td>750.0</td>\n",
       "      <td>28557.0</td>\n",
       "      <td>Employed</td>\n",
       "      <td>Single</td>\n",
       "      <td>Owner</td>\n",
       "      <td>...</td>\n",
       "      <td>-1.0</td>\n",
       "      <td>49.0</td>\n",
       "      <td>37.0</td>\n",
       "      <td>99.0</td>\n",
       "      <td>9.0</td>\n",
       "      <td>3.0</td>\n",
       "      <td>2.0</td>\n",
       "      <td>49.0</td>\n",
       "      <td>46-60</td>\n",
       "      <td>80k+</td>\n",
       "    </tr>\n",
       "    <tr>\n",
       "      <th>...</th>\n",
       "      <td>...</td>\n",
       "      <td>...</td>\n",
       "      <td>...</td>\n",
       "      <td>...</td>\n",
       "      <td>...</td>\n",
       "      <td>...</td>\n",
       "      <td>...</td>\n",
       "      <td>...</td>\n",
       "      <td>...</td>\n",
       "      <td>...</td>\n",
       "      <td>...</td>\n",
       "      <td>...</td>\n",
       "      <td>...</td>\n",
       "      <td>...</td>\n",
       "      <td>...</td>\n",
       "      <td>...</td>\n",
       "      <td>...</td>\n",
       "      <td>...</td>\n",
       "      <td>...</td>\n",
       "      <td>...</td>\n",
       "      <td>...</td>\n",
       "    </tr>\n",
       "    <tr>\n",
       "      <th>995</th>\n",
       "      <td>ID_0996</td>\n",
       "      <td>0.0</td>\n",
       "      <td>1979-08-17</td>\n",
       "      <td>Missing</td>\n",
       "      <td>55262.0</td>\n",
       "      <td>-1.0</td>\n",
       "      <td>1299.0</td>\n",
       "      <td>Unemployed</td>\n",
       "      <td>Widowed</td>\n",
       "      <td>Renter</td>\n",
       "      <td>...</td>\n",
       "      <td>306.0</td>\n",
       "      <td>149.0</td>\n",
       "      <td>254.0</td>\n",
       "      <td>168.0</td>\n",
       "      <td>4.0</td>\n",
       "      <td>4.0</td>\n",
       "      <td>0.0</td>\n",
       "      <td>45.0</td>\n",
       "      <td>46-60</td>\n",
       "      <td>40k-60k</td>\n",
       "    </tr>\n",
       "    <tr>\n",
       "      <th>996</th>\n",
       "      <td>ID_0997</td>\n",
       "      <td>0.0</td>\n",
       "      <td>1967-10-10</td>\n",
       "      <td>Female</td>\n",
       "      <td>98213.0</td>\n",
       "      <td>725.0</td>\n",
       "      <td>39469.0</td>\n",
       "      <td>Unemployed</td>\n",
       "      <td>Married</td>\n",
       "      <td>Renter</td>\n",
       "      <td>...</td>\n",
       "      <td>456.0</td>\n",
       "      <td>134.0</td>\n",
       "      <td>-1.0</td>\n",
       "      <td>41.0</td>\n",
       "      <td>3.0</td>\n",
       "      <td>4.0</td>\n",
       "      <td>1.0</td>\n",
       "      <td>57.0</td>\n",
       "      <td>46-60</td>\n",
       "      <td>80k+</td>\n",
       "    </tr>\n",
       "    <tr>\n",
       "      <th>997</th>\n",
       "      <td>ID_0998</td>\n",
       "      <td>0.0</td>\n",
       "      <td>1962-04-03</td>\n",
       "      <td>Male</td>\n",
       "      <td>38268.0</td>\n",
       "      <td>324.0</td>\n",
       "      <td>4994.0</td>\n",
       "      <td>Retired</td>\n",
       "      <td>Divorced</td>\n",
       "      <td>Missing</td>\n",
       "      <td>...</td>\n",
       "      <td>425.0</td>\n",
       "      <td>145.0</td>\n",
       "      <td>27.0</td>\n",
       "      <td>134.0</td>\n",
       "      <td>2.0</td>\n",
       "      <td>3.0</td>\n",
       "      <td>2.0</td>\n",
       "      <td>63.0</td>\n",
       "      <td>60+</td>\n",
       "      <td>30k-40k</td>\n",
       "    </tr>\n",
       "    <tr>\n",
       "      <th>998</th>\n",
       "      <td>ID_0999</td>\n",
       "      <td>0.0</td>\n",
       "      <td>1986-05-02</td>\n",
       "      <td>Male</td>\n",
       "      <td>97866.0</td>\n",
       "      <td>802.0</td>\n",
       "      <td>29878.0</td>\n",
       "      <td>Employed</td>\n",
       "      <td>Married</td>\n",
       "      <td>Renter</td>\n",
       "      <td>...</td>\n",
       "      <td>29.0</td>\n",
       "      <td>97.0</td>\n",
       "      <td>52.0</td>\n",
       "      <td>14.0</td>\n",
       "      <td>7.0</td>\n",
       "      <td>2.0</td>\n",
       "      <td>-1.0</td>\n",
       "      <td>39.0</td>\n",
       "      <td>36-45</td>\n",
       "      <td>80k+</td>\n",
       "    </tr>\n",
       "    <tr>\n",
       "      <th>999</th>\n",
       "      <td>ID_1000</td>\n",
       "      <td>0.0</td>\n",
       "      <td>1964-04-02</td>\n",
       "      <td>Female</td>\n",
       "      <td>80545.0</td>\n",
       "      <td>484.0</td>\n",
       "      <td>15627.0</td>\n",
       "      <td>Student</td>\n",
       "      <td>Single</td>\n",
       "      <td>Renter</td>\n",
       "      <td>...</td>\n",
       "      <td>450.0</td>\n",
       "      <td>118.0</td>\n",
       "      <td>113.0</td>\n",
       "      <td>59.0</td>\n",
       "      <td>9.0</td>\n",
       "      <td>4.0</td>\n",
       "      <td>0.0</td>\n",
       "      <td>61.0</td>\n",
       "      <td>60+</td>\n",
       "      <td>80k+</td>\n",
       "    </tr>\n",
       "  </tbody>\n",
       "</table>\n",
       "<p>1000 rows × 26 columns</p>\n",
       "</div>"
      ],
      "text/plain": [
       "    Identifier  MuleAccount DateOfBirth   Gender   Income  CreditScore  \\\n",
       "0      ID_0001          0.0  1964-01-06   Female  96534.0         -1.0   \n",
       "1      ID_0002          0.0  2004-11-26     Male  75106.0        390.0   \n",
       "2      ID_0003          0.0  1992-07-02     Male  50678.0        779.0   \n",
       "3      ID_0004          0.0  1974-07-03     Male  96218.0        757.0   \n",
       "4      ID_0005          0.0  1976-05-13     Male  83230.0        750.0   \n",
       "..         ...          ...         ...      ...      ...          ...   \n",
       "995    ID_0996          0.0  1979-08-17  Missing  55262.0         -1.0   \n",
       "996    ID_0997          0.0  1967-10-10   Female  98213.0        725.0   \n",
       "997    ID_0998          0.0  1962-04-03     Male  38268.0        324.0   \n",
       "998    ID_0999          0.0  1986-05-02     Male  97866.0        802.0   \n",
       "999    ID_1000          0.0  1964-04-02   Female  80545.0        484.0   \n",
       "\n",
       "     LoanAmount EmploymentStatus MaritalStatus OccupancyStatus  ...  \\\n",
       "0       44116.0       Unemployed        Single           Owner  ...   \n",
       "1        9782.0       Unemployed       Missing           Owner  ...   \n",
       "2       38650.0          Student      Divorced           Owner  ...   \n",
       "3       22366.0          Student        Single           Owner  ...   \n",
       "4       28557.0         Employed        Single           Owner  ...   \n",
       "..          ...              ...           ...             ...  ...   \n",
       "995      1299.0       Unemployed       Widowed          Renter  ...   \n",
       "996     39469.0       Unemployed       Married          Renter  ...   \n",
       "997      4994.0          Retired      Divorced         Missing  ...   \n",
       "998     29878.0         Employed       Married          Renter  ...   \n",
       "999     15627.0          Student        Single          Renter  ...   \n",
       "\n",
       "     NumTransactions  NumDeposits  NumWithdrawals NumTransfers  NumLoans  \\\n",
       "0              305.0        230.0           288.0         39.0       7.0   \n",
       "1              331.0        203.0           147.0          5.0      -1.0   \n",
       "2              109.0         43.0           227.0         37.0       4.0   \n",
       "3               87.0        149.0           236.0        168.0       1.0   \n",
       "4               -1.0         49.0            37.0         99.0       9.0   \n",
       "..               ...          ...             ...          ...       ...   \n",
       "995            306.0        149.0           254.0        168.0       4.0   \n",
       "996            456.0        134.0            -1.0         41.0       3.0   \n",
       "997            425.0        145.0            27.0        134.0       2.0   \n",
       "998             29.0         97.0            52.0         14.0       7.0   \n",
       "999            450.0        118.0           113.0         59.0       9.0   \n",
       "\n",
       "     NumCreditCards  NumSavingsAccounts   Age  AgeGroup  IncomeGroup  \n",
       "0               2.0                 0.0  61.0       60+         80k+  \n",
       "1               4.0                 2.0  20.0     18-24      60k-80k  \n",
       "2               1.0                 1.0  32.0     25-35      40k-60k  \n",
       "3               2.0                 1.0  50.0     46-60         80k+  \n",
       "4               3.0                 2.0  49.0     46-60         80k+  \n",
       "..              ...                 ...   ...       ...          ...  \n",
       "995             4.0                 0.0  45.0     46-60      40k-60k  \n",
       "996             4.0                 1.0  57.0     46-60         80k+  \n",
       "997             3.0                 2.0  63.0       60+      30k-40k  \n",
       "998             2.0                -1.0  39.0     36-45         80k+  \n",
       "999             4.0                 0.0  61.0       60+         80k+  \n",
       "\n",
       "[1000 rows x 26 columns]"
      ]
     },
     "execution_count": 50,
     "metadata": {},
     "output_type": "execute_result"
    }
   ],
   "source": [
    "final_df"
   ]
  },
  {
   "cell_type": "code",
   "execution_count": 51,
   "id": "a39801d0-5075-4f08-8731-616b5c2e17c6",
   "metadata": {},
   "outputs": [],
   "source": [
    "final = final_df.copy()"
   ]
  },
  {
   "cell_type": "code",
   "execution_count": 52,
   "id": "2975dcf1-6c01-4d7d-b57c-39f57e0ac478",
   "metadata": {},
   "outputs": [],
   "source": [
    "# Get the list of columns\n",
    "cols = final.columns.tolist()\n",
    "\n",
    "# Remove 'Age' and 'AgeGroup' from the list if they exist\n",
    "cols.remove('Age')\n",
    "cols.remove('AgeGroup')\n",
    "\n",
    "# Insert them right before 'Gender'\n",
    "dob_index = cols.index('Gender')\n",
    "cols = cols[:dob_index] + ['Age', 'AgeGroup'] + cols[dob_index:]\n",
    "\n",
    "# Reorder the DataFrame\n",
    "final = final[cols]"
   ]
  },
  {
   "cell_type": "code",
   "execution_count": 53,
   "id": "fd82d3ab-bcf7-497b-a50d-0377852595d3",
   "metadata": {},
   "outputs": [
    {
     "data": {
      "text/html": [
       "<div>\n",
       "<style scoped>\n",
       "    .dataframe tbody tr th:only-of-type {\n",
       "        vertical-align: middle;\n",
       "    }\n",
       "\n",
       "    .dataframe tbody tr th {\n",
       "        vertical-align: top;\n",
       "    }\n",
       "\n",
       "    .dataframe thead th {\n",
       "        text-align: right;\n",
       "    }\n",
       "</style>\n",
       "<table border=\"1\" class=\"dataframe\">\n",
       "  <thead>\n",
       "    <tr style=\"text-align: right;\">\n",
       "      <th></th>\n",
       "      <th>Identifier</th>\n",
       "      <th>MuleAccount</th>\n",
       "      <th>DateOfBirth</th>\n",
       "      <th>Age</th>\n",
       "      <th>AgeGroup</th>\n",
       "      <th>Gender</th>\n",
       "      <th>Income</th>\n",
       "      <th>CreditScore</th>\n",
       "      <th>LoanAmount</th>\n",
       "      <th>EmploymentStatus</th>\n",
       "      <th>...</th>\n",
       "      <th>AccountLength</th>\n",
       "      <th>AverageBalance</th>\n",
       "      <th>NumTransactions</th>\n",
       "      <th>NumDeposits</th>\n",
       "      <th>NumWithdrawals</th>\n",
       "      <th>NumTransfers</th>\n",
       "      <th>NumLoans</th>\n",
       "      <th>NumCreditCards</th>\n",
       "      <th>NumSavingsAccounts</th>\n",
       "      <th>IncomeGroup</th>\n",
       "    </tr>\n",
       "  </thead>\n",
       "  <tbody>\n",
       "    <tr>\n",
       "      <th>0</th>\n",
       "      <td>ID_0001</td>\n",
       "      <td>0.0</td>\n",
       "      <td>1964-01-06</td>\n",
       "      <td>61.0</td>\n",
       "      <td>60+</td>\n",
       "      <td>Female</td>\n",
       "      <td>96534.0</td>\n",
       "      <td>-1.0</td>\n",
       "      <td>44116.0</td>\n",
       "      <td>Unemployed</td>\n",
       "      <td>...</td>\n",
       "      <td>19.0</td>\n",
       "      <td>-1.0</td>\n",
       "      <td>305.0</td>\n",
       "      <td>230.0</td>\n",
       "      <td>288.0</td>\n",
       "      <td>39.0</td>\n",
       "      <td>7.0</td>\n",
       "      <td>2.0</td>\n",
       "      <td>0.0</td>\n",
       "      <td>80k+</td>\n",
       "    </tr>\n",
       "    <tr>\n",
       "      <th>1</th>\n",
       "      <td>ID_0002</td>\n",
       "      <td>0.0</td>\n",
       "      <td>2004-11-26</td>\n",
       "      <td>20.0</td>\n",
       "      <td>18-24</td>\n",
       "      <td>Male</td>\n",
       "      <td>75106.0</td>\n",
       "      <td>390.0</td>\n",
       "      <td>9782.0</td>\n",
       "      <td>Unemployed</td>\n",
       "      <td>...</td>\n",
       "      <td>3.0</td>\n",
       "      <td>24989.0</td>\n",
       "      <td>331.0</td>\n",
       "      <td>203.0</td>\n",
       "      <td>147.0</td>\n",
       "      <td>5.0</td>\n",
       "      <td>-1.0</td>\n",
       "      <td>4.0</td>\n",
       "      <td>2.0</td>\n",
       "      <td>60k-80k</td>\n",
       "    </tr>\n",
       "    <tr>\n",
       "      <th>2</th>\n",
       "      <td>ID_0003</td>\n",
       "      <td>0.0</td>\n",
       "      <td>1992-07-02</td>\n",
       "      <td>32.0</td>\n",
       "      <td>25-35</td>\n",
       "      <td>Male</td>\n",
       "      <td>50678.0</td>\n",
       "      <td>779.0</td>\n",
       "      <td>38650.0</td>\n",
       "      <td>Student</td>\n",
       "      <td>...</td>\n",
       "      <td>-1.0</td>\n",
       "      <td>10915.0</td>\n",
       "      <td>109.0</td>\n",
       "      <td>43.0</td>\n",
       "      <td>227.0</td>\n",
       "      <td>37.0</td>\n",
       "      <td>4.0</td>\n",
       "      <td>1.0</td>\n",
       "      <td>1.0</td>\n",
       "      <td>40k-60k</td>\n",
       "    </tr>\n",
       "    <tr>\n",
       "      <th>3</th>\n",
       "      <td>ID_0004</td>\n",
       "      <td>0.0</td>\n",
       "      <td>1974-07-03</td>\n",
       "      <td>50.0</td>\n",
       "      <td>46-60</td>\n",
       "      <td>Male</td>\n",
       "      <td>96218.0</td>\n",
       "      <td>757.0</td>\n",
       "      <td>22366.0</td>\n",
       "      <td>Student</td>\n",
       "      <td>...</td>\n",
       "      <td>19.0</td>\n",
       "      <td>43552.0</td>\n",
       "      <td>87.0</td>\n",
       "      <td>149.0</td>\n",
       "      <td>236.0</td>\n",
       "      <td>168.0</td>\n",
       "      <td>1.0</td>\n",
       "      <td>2.0</td>\n",
       "      <td>1.0</td>\n",
       "      <td>80k+</td>\n",
       "    </tr>\n",
       "    <tr>\n",
       "      <th>4</th>\n",
       "      <td>ID_0005</td>\n",
       "      <td>0.0</td>\n",
       "      <td>1976-05-13</td>\n",
       "      <td>49.0</td>\n",
       "      <td>46-60</td>\n",
       "      <td>Male</td>\n",
       "      <td>83230.0</td>\n",
       "      <td>750.0</td>\n",
       "      <td>28557.0</td>\n",
       "      <td>Employed</td>\n",
       "      <td>...</td>\n",
       "      <td>9.0</td>\n",
       "      <td>19990.0</td>\n",
       "      <td>-1.0</td>\n",
       "      <td>49.0</td>\n",
       "      <td>37.0</td>\n",
       "      <td>99.0</td>\n",
       "      <td>9.0</td>\n",
       "      <td>3.0</td>\n",
       "      <td>2.0</td>\n",
       "      <td>80k+</td>\n",
       "    </tr>\n",
       "    <tr>\n",
       "      <th>...</th>\n",
       "      <td>...</td>\n",
       "      <td>...</td>\n",
       "      <td>...</td>\n",
       "      <td>...</td>\n",
       "      <td>...</td>\n",
       "      <td>...</td>\n",
       "      <td>...</td>\n",
       "      <td>...</td>\n",
       "      <td>...</td>\n",
       "      <td>...</td>\n",
       "      <td>...</td>\n",
       "      <td>...</td>\n",
       "      <td>...</td>\n",
       "      <td>...</td>\n",
       "      <td>...</td>\n",
       "      <td>...</td>\n",
       "      <td>...</td>\n",
       "      <td>...</td>\n",
       "      <td>...</td>\n",
       "      <td>...</td>\n",
       "      <td>...</td>\n",
       "    </tr>\n",
       "    <tr>\n",
       "      <th>995</th>\n",
       "      <td>ID_0996</td>\n",
       "      <td>0.0</td>\n",
       "      <td>1979-08-17</td>\n",
       "      <td>45.0</td>\n",
       "      <td>46-60</td>\n",
       "      <td>Missing</td>\n",
       "      <td>55262.0</td>\n",
       "      <td>-1.0</td>\n",
       "      <td>1299.0</td>\n",
       "      <td>Unemployed</td>\n",
       "      <td>...</td>\n",
       "      <td>1.0</td>\n",
       "      <td>39437.0</td>\n",
       "      <td>306.0</td>\n",
       "      <td>149.0</td>\n",
       "      <td>254.0</td>\n",
       "      <td>168.0</td>\n",
       "      <td>4.0</td>\n",
       "      <td>4.0</td>\n",
       "      <td>0.0</td>\n",
       "      <td>40k-60k</td>\n",
       "    </tr>\n",
       "    <tr>\n",
       "      <th>996</th>\n",
       "      <td>ID_0997</td>\n",
       "      <td>0.0</td>\n",
       "      <td>1967-10-10</td>\n",
       "      <td>57.0</td>\n",
       "      <td>46-60</td>\n",
       "      <td>Female</td>\n",
       "      <td>98213.0</td>\n",
       "      <td>725.0</td>\n",
       "      <td>39469.0</td>\n",
       "      <td>Unemployed</td>\n",
       "      <td>...</td>\n",
       "      <td>17.0</td>\n",
       "      <td>36503.0</td>\n",
       "      <td>456.0</td>\n",
       "      <td>134.0</td>\n",
       "      <td>-1.0</td>\n",
       "      <td>41.0</td>\n",
       "      <td>3.0</td>\n",
       "      <td>4.0</td>\n",
       "      <td>1.0</td>\n",
       "      <td>80k+</td>\n",
       "    </tr>\n",
       "    <tr>\n",
       "      <th>997</th>\n",
       "      <td>ID_0998</td>\n",
       "      <td>0.0</td>\n",
       "      <td>1962-04-03</td>\n",
       "      <td>63.0</td>\n",
       "      <td>60+</td>\n",
       "      <td>Male</td>\n",
       "      <td>38268.0</td>\n",
       "      <td>324.0</td>\n",
       "      <td>4994.0</td>\n",
       "      <td>Retired</td>\n",
       "      <td>...</td>\n",
       "      <td>15.0</td>\n",
       "      <td>31746.0</td>\n",
       "      <td>425.0</td>\n",
       "      <td>145.0</td>\n",
       "      <td>27.0</td>\n",
       "      <td>134.0</td>\n",
       "      <td>2.0</td>\n",
       "      <td>3.0</td>\n",
       "      <td>2.0</td>\n",
       "      <td>30k-40k</td>\n",
       "    </tr>\n",
       "    <tr>\n",
       "      <th>998</th>\n",
       "      <td>ID_0999</td>\n",
       "      <td>0.0</td>\n",
       "      <td>1986-05-02</td>\n",
       "      <td>39.0</td>\n",
       "      <td>36-45</td>\n",
       "      <td>Male</td>\n",
       "      <td>97866.0</td>\n",
       "      <td>802.0</td>\n",
       "      <td>29878.0</td>\n",
       "      <td>Employed</td>\n",
       "      <td>...</td>\n",
       "      <td>20.0</td>\n",
       "      <td>28923.0</td>\n",
       "      <td>29.0</td>\n",
       "      <td>97.0</td>\n",
       "      <td>52.0</td>\n",
       "      <td>14.0</td>\n",
       "      <td>7.0</td>\n",
       "      <td>2.0</td>\n",
       "      <td>-1.0</td>\n",
       "      <td>80k+</td>\n",
       "    </tr>\n",
       "    <tr>\n",
       "      <th>999</th>\n",
       "      <td>ID_1000</td>\n",
       "      <td>0.0</td>\n",
       "      <td>1964-04-02</td>\n",
       "      <td>61.0</td>\n",
       "      <td>60+</td>\n",
       "      <td>Female</td>\n",
       "      <td>80545.0</td>\n",
       "      <td>484.0</td>\n",
       "      <td>15627.0</td>\n",
       "      <td>Student</td>\n",
       "      <td>...</td>\n",
       "      <td>6.0</td>\n",
       "      <td>10867.0</td>\n",
       "      <td>450.0</td>\n",
       "      <td>118.0</td>\n",
       "      <td>113.0</td>\n",
       "      <td>59.0</td>\n",
       "      <td>9.0</td>\n",
       "      <td>4.0</td>\n",
       "      <td>0.0</td>\n",
       "      <td>80k+</td>\n",
       "    </tr>\n",
       "  </tbody>\n",
       "</table>\n",
       "<p>1000 rows × 26 columns</p>\n",
       "</div>"
      ],
      "text/plain": [
       "    Identifier  MuleAccount DateOfBirth   Age AgeGroup   Gender   Income  \\\n",
       "0      ID_0001          0.0  1964-01-06  61.0      60+   Female  96534.0   \n",
       "1      ID_0002          0.0  2004-11-26  20.0    18-24     Male  75106.0   \n",
       "2      ID_0003          0.0  1992-07-02  32.0    25-35     Male  50678.0   \n",
       "3      ID_0004          0.0  1974-07-03  50.0    46-60     Male  96218.0   \n",
       "4      ID_0005          0.0  1976-05-13  49.0    46-60     Male  83230.0   \n",
       "..         ...          ...         ...   ...      ...      ...      ...   \n",
       "995    ID_0996          0.0  1979-08-17  45.0    46-60  Missing  55262.0   \n",
       "996    ID_0997          0.0  1967-10-10  57.0    46-60   Female  98213.0   \n",
       "997    ID_0998          0.0  1962-04-03  63.0      60+     Male  38268.0   \n",
       "998    ID_0999          0.0  1986-05-02  39.0    36-45     Male  97866.0   \n",
       "999    ID_1000          0.0  1964-04-02  61.0      60+   Female  80545.0   \n",
       "\n",
       "     CreditScore  LoanAmount EmploymentStatus  ... AccountLength  \\\n",
       "0           -1.0     44116.0       Unemployed  ...          19.0   \n",
       "1          390.0      9782.0       Unemployed  ...           3.0   \n",
       "2          779.0     38650.0          Student  ...          -1.0   \n",
       "3          757.0     22366.0          Student  ...          19.0   \n",
       "4          750.0     28557.0         Employed  ...           9.0   \n",
       "..           ...         ...              ...  ...           ...   \n",
       "995         -1.0      1299.0       Unemployed  ...           1.0   \n",
       "996        725.0     39469.0       Unemployed  ...          17.0   \n",
       "997        324.0      4994.0          Retired  ...          15.0   \n",
       "998        802.0     29878.0         Employed  ...          20.0   \n",
       "999        484.0     15627.0          Student  ...           6.0   \n",
       "\n",
       "    AverageBalance  NumTransactions  NumDeposits  NumWithdrawals NumTransfers  \\\n",
       "0             -1.0            305.0        230.0           288.0         39.0   \n",
       "1          24989.0            331.0        203.0           147.0          5.0   \n",
       "2          10915.0            109.0         43.0           227.0         37.0   \n",
       "3          43552.0             87.0        149.0           236.0        168.0   \n",
       "4          19990.0             -1.0         49.0            37.0         99.0   \n",
       "..             ...              ...          ...             ...          ...   \n",
       "995        39437.0            306.0        149.0           254.0        168.0   \n",
       "996        36503.0            456.0        134.0            -1.0         41.0   \n",
       "997        31746.0            425.0        145.0            27.0        134.0   \n",
       "998        28923.0             29.0         97.0            52.0         14.0   \n",
       "999        10867.0            450.0        118.0           113.0         59.0   \n",
       "\n",
       "     NumLoans  NumCreditCards  NumSavingsAccounts  IncomeGroup  \n",
       "0         7.0             2.0                 0.0         80k+  \n",
       "1        -1.0             4.0                 2.0      60k-80k  \n",
       "2         4.0             1.0                 1.0      40k-60k  \n",
       "3         1.0             2.0                 1.0         80k+  \n",
       "4         9.0             3.0                 2.0         80k+  \n",
       "..        ...             ...                 ...          ...  \n",
       "995       4.0             4.0                 0.0      40k-60k  \n",
       "996       3.0             4.0                 1.0         80k+  \n",
       "997       2.0             3.0                 2.0      30k-40k  \n",
       "998       7.0             2.0                -1.0         80k+  \n",
       "999       9.0             4.0                 0.0         80k+  \n",
       "\n",
       "[1000 rows x 26 columns]"
      ]
     },
     "execution_count": 53,
     "metadata": {},
     "output_type": "execute_result"
    }
   ],
   "source": [
    "final"
   ]
  },
  {
   "cell_type": "markdown",
   "id": "4543f609-76ab-4982-83a3-ba2189f3a36c",
   "metadata": {},
   "source": [
    "<h2> Data Analysis </h2>"
   ]
  },
  {
   "cell_type": "raw",
   "id": "4a2838a9-dbf4-4df7-96d4-2603b6dc50bb",
   "metadata": {},
   "source": [
    "Data Analysis \n",
    "1. Grouping the data to sort trends  - Age Group | Gender | \n",
    "2. Identifying Top Characteristics Associated with Mule Accounts\n",
    "3. Identifying using Employment Status\n",
    "4. Identifying using Credit Score Range "
   ]
  },
  {
   "cell_type": "code",
   "execution_count": 58,
   "id": "886ef891-d62b-40c0-9f61-4dca508c9574",
   "metadata": {},
   "outputs": [
    {
     "name": "stderr",
     "output_type": "stream",
     "text": [
      "<ipython-input-58-7ca92c0f8368>:2: FutureWarning: The default of observed=False is deprecated and will be changed to True in a future version of pandas. Pass observed=False to retain current behavior or observed=True to adopt the future default and silence this warning.\n",
      "  age_group = final.groupby('AgeGroup')['MuleAccount'].sum().sort_values(ascending=False)\n"
     ]
    },
    {
     "name": "stdout",
     "output_type": "stream",
     "text": [
      "AgeGroup\n",
      "46-60    19.0\n",
      "36-45    13.0\n",
      "25-35    10.0\n",
      "18-24     8.0\n",
      "60+       8.0\n",
      "0-17      0.0\n",
      "Name: MuleAccount, dtype: float64\n"
     ]
    }
   ],
   "source": [
    "# Grouping the data based on Age Group and sum mules flags\n",
    "age_group = final.groupby('AgeGroup')['MuleAccount'].sum().sort_values(ascending=False)\n",
    "print(age_group)"
   ]
  },
  {
   "cell_type": "code",
   "execution_count": 59,
   "id": "e0151d16-4670-4254-aa2c-b72d69605b8d",
   "metadata": {},
   "outputs": [
    {
     "name": "stdout",
     "output_type": "stream",
     "text": [
      "Gender\n",
      "Female     26.0\n",
      "Male       30.0\n",
      "Missing     3.0\n",
      "Name: MuleAccount, dtype: float64\n"
     ]
    }
   ],
   "source": [
    "# Group by gender and sum mules flags\n",
    "gender_summary = final.groupby('Gender')['MuleAccount'].sum()\n",
    "print(gender_summary)"
   ]
  },
  {
   "cell_type": "code",
   "execution_count": 69,
   "id": "2dcbb3cb-bf5d-49d7-a0c6-bc13a9aacacf",
   "metadata": {},
   "outputs": [
    {
     "name": "stderr",
     "output_type": "stream",
     "text": [
      "<ipython-input-69-226d8d46cd30>:3: FutureWarning: The default of observed=False is deprecated and will be changed to True in a future version of pandas. Pass observed=False to retain current behavior or observed=True to adopt the future default and silence this warning.\n",
      "  mule_summary = final.groupby(characteristics)['MuleAccount'].sum().reset_index()\n"
     ]
    },
    {
     "name": "stdout",
     "output_type": "stream",
     "text": [
      "Characteristics with the highest number of mule accounts:\n",
      "   AgeGroup   Gender  MuleAccount\n",
      "12    46-60   Female         11.0\n",
      "10    36-45     Male         11.0\n",
      "15      60+   Female          6.0\n",
      "7     25-35     Male          6.0\n",
      "4     18-24     Male          5.0\n",
      "13    46-60     Male          5.0\n",
      "6     25-35   Female          4.0\n",
      "3     18-24   Female          3.0\n",
      "14    46-60  Missing          3.0\n",
      "9     36-45   Female          2.0\n"
     ]
    }
   ],
   "source": [
    "# Group by characteristics and sum mules_flags\n",
    "characteristics = ['AgeGroup', 'Gender']\n",
    "mule_summary = final.groupby(characteristics)['MuleAccount'].sum().reset_index()\n",
    "\n",
    "# Sort by the highest number of mule accounts\n",
    "mule_summary = mule_summary.sort_values(by='MuleAccount', ascending=False)\n",
    "\n",
    "print(\"Characteristics with the highest number of mule accounts:\")\n",
    "print(mule_summary.head(10))"
   ]
  },
  {
   "cell_type": "code",
   "execution_count": 70,
   "id": "a2d2b1ad-07e9-49c7-83bc-87154eab5461",
   "metadata": {},
   "outputs": [
    {
     "name": "stdout",
     "output_type": "stream",
     "text": [
      "EmploymentStatus\n",
      "Student       18.0\n",
      "Employed      16.0\n",
      "Unemployed    13.0\n",
      "Retired       12.0\n",
      "Missing        0.0\n",
      "Name: MuleAccount, dtype: float64\n"
     ]
    }
   ],
   "source": [
    "# By Employment Status \n",
    "emp_trend = final.groupby('EmploymentStatus')['MuleAccount'].sum().sort_values(ascending=False)\n",
    "print(emp_trend)"
   ]
  },
  {
   "cell_type": "code",
   "execution_count": 71,
   "id": "6daa3ba5-6027-4379-a544-c601255c27a5",
   "metadata": {},
   "outputs": [
    {
     "name": "stderr",
     "output_type": "stream",
     "text": [
      "<ipython-input-71-9104b50c14b3>:6: FutureWarning: The default of observed=False is deprecated and will be changed to True in a future version of pandas. Pass observed=False to retain current behavior or observed=True to adopt the future default and silence this warning.\n",
      "  credit_trend = final.groupby('CreditBand')['MuleAccount'].sum().sort_values(ascending=False)\n"
     ]
    },
    {
     "name": "stdout",
     "output_type": "stream",
     "text": [
      "CreditBand\n",
      "Poor         22.0\n",
      "Fair         13.0\n",
      "Very Good    12.0\n",
      "Good          8.0\n",
      "Excellent     1.0\n",
      "Name: MuleAccount, dtype: float64\n"
     ]
    }
   ],
   "source": [
    "# By Credit Score \n",
    "credit_bins = [0, 500, 600, 700, 800, 900]\n",
    "credit_labels = ['Poor', 'Fair', 'Good', 'Very Good', 'Excellent']\n",
    "\n",
    "final['CreditBand'] = pd.cut(final['CreditScore'], bins=credit_bins, labels=credit_labels)\n",
    "credit_trend = final.groupby('CreditBand')['MuleAccount'].sum().sort_values(ascending=False)\n",
    "print(credit_trend)"
   ]
  },
  {
   "cell_type": "code",
   "execution_count": 72,
   "id": "4545d72f-c2c1-4e04-b34e-f1f13a578403",
   "metadata": {},
   "outputs": [
    {
     "name": "stderr",
     "output_type": "stream",
     "text": [
      "<ipython-input-72-18ff4780889c>:6: FutureWarning: The default of observed=False is deprecated and will be changed to True in a future version of pandas. Pass observed=False to retain current behavior or observed=True to adopt the future default and silence this warning.\n",
      "  final.groupby('IncomeBand')['MuleAccount'].sum().sort_values(ascending=False)\n",
      "<ipython-input-72-18ff4780889c>:13: FutureWarning: The default of observed=False is deprecated and will be changed to True in a future version of pandas. Pass observed=False to retain current behavior or observed=True to adopt the future default and silence this warning.\n",
      "  final.groupby('LoanBand')['MuleAccount'].sum().sort_values(ascending=False)\n"
     ]
    },
    {
     "data": {
      "text/plain": [
       "LoanBand\n",
       "30K+       21.0\n",
       "20K–30K    13.0\n",
       "10K–20K     9.0\n",
       "<5K         8.0\n",
       "5K–10K      5.0\n",
       "Name: MuleAccount, dtype: float64"
      ]
     },
     "execution_count": 72,
     "metadata": {},
     "output_type": "execute_result"
    }
   ],
   "source": [
    "# Income bands (you may need to create bins if it's numeric)\n",
    "income_bins = [0, 20000, 40000, 60000, 80000, 100000, float('inf')]\n",
    "income_labels = ['<20K', '20K–40K', '40K–60K', '60K–80K', '80K–100K', '100K+']\n",
    "final['IncomeBand'] = pd.cut(final['Income'], bins=income_bins, labels=income_labels)\n",
    "\n",
    "final.groupby('IncomeBand')['MuleAccount'].sum().sort_values(ascending=False)\n",
    "\n",
    "# LoanAmount bands\n",
    "loan_bins = [0, 5000, 10000, 20000, 30000, float('inf')]\n",
    "loan_labels = ['<5K', '5K–10K', '10K–20K', '20K–30K', '30K+']\n",
    "final['LoanBand'] = pd.cut(final['LoanAmount'], bins=loan_bins, labels=loan_labels)\n",
    "\n",
    "final.groupby('LoanBand')['MuleAccount'].sum().sort_values(ascending=False)"
   ]
  },
  {
   "cell_type": "markdown",
   "id": "e4603108-d591-48f2-8202-0223d75fa43b",
   "metadata": {},
   "source": [
    "<h2> Data Visualisation  </h2>"
   ]
  },
  {
   "cell_type": "code",
   "execution_count": 73,
   "id": "2302333b-4ab6-44ac-a3fa-7fa089347278",
   "metadata": {},
   "outputs": [
    {
     "name": "stderr",
     "output_type": "stream",
     "text": [
      "<ipython-input-73-e1186ad8814d>:3: FutureWarning: \n",
      "\n",
      "Passing `palette` without assigning `hue` is deprecated and will be removed in v0.14.0. Assign the `x` variable to `hue` and set `legend=False` for the same effect.\n",
      "\n",
      "  sns.barplot(x='AgeGroup', y='MuleAccount', data=final, estimator=sum, palette='Set1', errorbar=None, legend=False, edgecolor='black')\n"
     ]
    },
    {
     "data": {
      "image/png": "[encoded data removed]",
      "text/plain": [
       "<Figure size 1000x600 with 1 Axes>"
      ]
     },
     "metadata": {},
     "output_type": "display_data"
    }
   ],
   "source": [
    "# Chart 1: Mule Accounts by Age Group\n",
    "plt.figure(figsize=(10, 6))\n",
    "sns.barplot(x='AgeGroup', y='MuleAccount', data=final, estimator=sum, palette='Set1', errorbar=None, legend=False, edgecolor='black') \n",
    "plt.title('Mule Accounts by Age Group')\n",
    "plt.xlabel('Age Group')\n",
    "plt.ylabel('Number of Mule Accounts')\n",
    "plt.tight_layout()\n",
    "plt.show()"
   ]
  },
  {
   "cell_type": "code",
   "execution_count": 74,
   "id": "2889397a-c57a-458f-9323-3685d88ca41b",
   "metadata": {},
   "outputs": [
    {
     "name": "stderr",
     "output_type": "stream",
     "text": [
      "No artists with labels found to put in legend.  Note that artists whose label start with an underscore are ignored when legend() is called with no argument.\n"
     ]
    },
    {
     "data": {
      "image/png": "[encoded data removed]",
      "text/plain": [
       "<Figure size 600x400 with 1 Axes>"
      ]
     },
     "metadata": {},
     "output_type": "display_data"
    }
   ],
   "source": [
    "# Chart 2: Mule Accounts by Gender\n",
    "plt.figure(figsize=(6, 4))\n",
    "sns.barplot(\n",
    "    x='Gender',\n",
    "    y='MuleAccount',\n",
    "    hue='Gender',          \n",
    "    data=final,\n",
    "    estimator=sum,\n",
    "    palette='Set1',\n",
    "    errorbar=None,\n",
    "    edgecolor='black'\n",
    ")\n",
    "plt.title('Mule Accounts by Gender')\n",
    "plt.xlabel('Gender')\n",
    "plt.ylabel('Number of Mule Accounts')\n",
    "plt.legend().remove()     \n",
    "plt.tight_layout()\n",
    "plt.show()"
   ]
  },
  {
   "cell_type": "code",
   "execution_count": 75,
   "id": "931dc2a0-6173-4466-9cc5-1edfa50b8306",
   "metadata": {},
   "outputs": [
    {
     "data": {
      "image/png": "[encoded data removed]",
      "text/plain": [
       "<Figure size 1000x600 with 1 Axes>"
      ]
     },
     "metadata": {},
     "output_type": "display_data"
    }
   ],
   "source": [
    "# Chart 3: Mule Accounts by Employment Status\n",
    "plt.figure(figsize=(10, 6))\n",
    "sns.barplot(\n",
    "    x='EmploymentStatus',\n",
    "    y='MuleAccount',\n",
    "    hue='EmploymentStatus',\n",
    "    data=final,\n",
    "    estimator=sum,\n",
    "    palette='Set3',\n",
    "    errorbar=None,\n",
    "    edgecolor='black'\n",
    ")\n",
    "plt.title('Mule Accounts by Employment Status')\n",
    "plt.xlabel('Employment Status')\n",
    "plt.ylabel('Number of Mule Accounts')\n",
    "plt.tight_layout()\n",
    "plt.show()"
   ]
  },
  {
   "cell_type": "code",
   "execution_count": 76,
   "id": "6b2781ec-c3f4-479a-8609-863d4cea1897",
   "metadata": {},
   "outputs": [
    {
     "name": "stderr",
     "output_type": "stream",
     "text": [
      "<ipython-input-76-5e84ab63c2ed>:3: FutureWarning: \n",
      "\n",
      "Passing `palette` without assigning `hue` is deprecated and will be removed in v0.14.0. Assign the `x` variable to `hue` and set `legend=False` for the same effect.\n",
      "\n",
      "  sns.barplot(\n"
     ]
    },
    {
     "data": {
      "image/png": "[encoded data removed]",
      "text/plain": [
       "<Figure size 1000x600 with 1 Axes>"
      ]
     },
     "metadata": {},
     "output_type": "display_data"
    }
   ],
   "source": [
    "# Chart 4: Mule Accounts by Income Band\n",
    "plt.figure(figsize=(10, 6))\n",
    "sns.barplot(\n",
    "    x='IncomeBand',\n",
    "    y='MuleAccount',\n",
    "    data=final,\n",
    "    estimator=sum,\n",
    "    palette='husl',\n",
    "    errorbar=None,\n",
    "    edgecolor='black'\n",
    ")\n",
    "plt.title('Mule Accounts by Income Band')\n",
    "plt.xlabel('Income Band')\n",
    "plt.ylabel('Number of Mule Accounts')\n",
    "plt.tight_layout()\n",
    "plt.show()"
   ]
  },
  {
   "cell_type": "code",
   "execution_count": 77,
   "id": "7bda87d1-37e6-449d-8003-f04f5904d96f",
   "metadata": {},
   "outputs": [
    {
     "data": {
      "image/png": "[encoded data removed]",
      "text/plain": [
       "<Figure size 1000x600 with 1 Axes>"
      ]
     },
     "metadata": {},
     "output_type": "display_data"
    }
   ],
   "source": [
    "# Chart 5: Scatter Plot – Credit Score vs Mule Accounts (by Age Group)\n",
    "plt.figure(figsize=(10, 6))\n",
    "sns.scatterplot(\n",
    "    x='CreditScore',\n",
    "    y='MuleAccount',\n",
    "    data=final,\n",
    "    hue='AgeGroup',\n",
    "    palette='Set2'\n",
    ")\n",
    "plt.title('Credit Score vs Mule Accounts by Age Group')\n",
    "plt.xlabel('Credit Score')\n",
    "plt.ylabel('Mule Account')\n",
    "plt.tight_layout()\n",
    "plt.show()"
   ]
  },
  {
   "cell_type": "code",
   "execution_count": null,
   "id": "f3bf3600-91b9-4147-bf45-4ff8c08787f7",
   "metadata": {},
   "outputs": [],
   "source": []
  }
 ],
 "metadata": {
  "kernelspec": {
   "display_name": "Python [conda env:base] *",
   "language": "python",
   "name": "conda-base-py"
  },
  "language_info": {
   "codemirror_mode": {
    "name": "ipython",
    "version": 3
   },
   "file_extension": ".py",
   "mimetype": "text/x-python",
   "name": "python",
   "nbconvert_exporter": "python",
   "pygments_lexer": "ipython3",
   "version": "3.13.5"
  }
 },
 "nbformat": 4,
 "nbformat_minor": 5
}
